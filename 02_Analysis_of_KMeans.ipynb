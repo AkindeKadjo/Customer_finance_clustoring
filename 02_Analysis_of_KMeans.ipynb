{
  "nbformat": 4,
  "nbformat_minor": 0,
  "metadata": {
    "colab": {
      "provenance": [],
      "mount_file_id": "1nZvCfY4R_HOyq5OzpVZoAIdYe3UXShKs",
      "authorship_tag": "ABX9TyPkL9pHsqfGxEPvX9IrhWJK",
      "include_colab_link": true
    },
    "kernelspec": {
      "name": "python3",
      "display_name": "Python 3"
    },
    "language_info": {
      "name": "python"
    }
  },
  "cells": [
    {
      "cell_type": "markdown",
      "metadata": {
        "id": "view-in-github",
        "colab_type": "text"
      },
      "source": [
        "<a href=\"https://colab.research.google.com/github/AkindeKadjo/Customer_finance_clustoring/blob/main/02_Analysis_of_KMeans.ipynb\" target=\"_parent\"><img src=\"https://colab.research.google.com/assets/colab-badge.svg\" alt=\"Open In Colab\"/></a>"
      ]
    },
    {
      "cell_type": "markdown",
      "source": [
        "Name: Akinde Kadjo\n",
        "\n",
        "Date: 10/10/2022"
      ],
      "metadata": {
        "id": "xdG2eiYZERhV"
      }
    },
    {
      "cell_type": "markdown",
      "source": [
        "** We are interested in grouping our customers into groups based on similar characteristics. This can help the company effectively allocate marketing resources. We will use customer age, education, years of employment, income, debt, whether they defaulted, and their debt to income ratio to group them into segments.**"
      ],
      "metadata": {
        "id": "4DeT5Kn6Epuf"
      }
    },
    {
      "cell_type": "markdown",
      "source": [
        "The original data is from this data [source](https://github.com/Nikhil-Adithyan/Customer-Segmentation-with-K-Means).\n",
        "\n"
      ],
      "metadata": {
        "id": "zaL86geME0Tj"
      }
    },
    {
      "cell_type": "code",
      "execution_count": 1,
      "metadata": {
        "id": "lzcKvckrDyXa"
      },
      "outputs": [],
      "source": [
        "#Importing all of the libraries that may be needed for the project\n",
        "import matplotlib.pyplot as plt\n",
        "import seaborn as sns\n",
        "import pandas as pd\n",
        "import numpy as np\n",
        "\n",
        "from sklearn.preprocessing import StandardScaler\n",
        "from sklearn.cluster import KMeans\n",
        "from sklearn.metrics import silhouette_score"
      ]
    },
    {
      "cell_type": "code",
      "source": [
        "#Loading the data\n",
        "filename = '/content/drive/MyDrive/Coding Dojo/09 Week 9 Unsupervised ML/cust_seg.csv'\n",
        "Original_df = pd.read_csv(filename)\n",
        "# keeping a copy of the df as a safety net\n",
        "df = Original_df.copy()\n",
        "df.head()"
      ],
      "metadata": {
        "colab": {
          "base_uri": "https://localhost:8080/",
          "height": 206
        },
        "id": "3HD3a_FlFYLn",
        "outputId": "9dd894cf-3a78-462f-9f4a-21e9c27414a3"
      },
      "execution_count": 2,
      "outputs": [
        {
          "output_type": "execute_result",
          "data": {
            "text/plain": [
              "   Unnamed: 0  Customer Id  Age  Edu  Years Employed  Income  Card Debt  \\\n",
              "0           0            1   41    2               6      19      0.124   \n",
              "1           1            2   47    1              26     100      4.582   \n",
              "2           2            3   33    2              10      57      6.111   \n",
              "3           3            4   29    2               4      19      0.681   \n",
              "4           4            5   47    1              31     253      9.308   \n",
              "\n",
              "   Other Debt  Defaulted  DebtIncomeRatio  \n",
              "0       1.073        0.0              6.3  \n",
              "1       8.218        0.0             12.8  \n",
              "2       5.802        1.0             20.9  \n",
              "3       0.516        0.0              6.3  \n",
              "4       8.908        0.0              7.2  "
            ],
            "text/html": [
              "\n",
              "  <div id=\"df-177fa181-fc3f-42cd-be2a-71e06c184633\">\n",
              "    <div class=\"colab-df-container\">\n",
              "      <div>\n",
              "<style scoped>\n",
              "    .dataframe tbody tr th:only-of-type {\n",
              "        vertical-align: middle;\n",
              "    }\n",
              "\n",
              "    .dataframe tbody tr th {\n",
              "        vertical-align: top;\n",
              "    }\n",
              "\n",
              "    .dataframe thead th {\n",
              "        text-align: right;\n",
              "    }\n",
              "</style>\n",
              "<table border=\"1\" class=\"dataframe\">\n",
              "  <thead>\n",
              "    <tr style=\"text-align: right;\">\n",
              "      <th></th>\n",
              "      <th>Unnamed: 0</th>\n",
              "      <th>Customer Id</th>\n",
              "      <th>Age</th>\n",
              "      <th>Edu</th>\n",
              "      <th>Years Employed</th>\n",
              "      <th>Income</th>\n",
              "      <th>Card Debt</th>\n",
              "      <th>Other Debt</th>\n",
              "      <th>Defaulted</th>\n",
              "      <th>DebtIncomeRatio</th>\n",
              "    </tr>\n",
              "  </thead>\n",
              "  <tbody>\n",
              "    <tr>\n",
              "      <th>0</th>\n",
              "      <td>0</td>\n",
              "      <td>1</td>\n",
              "      <td>41</td>\n",
              "      <td>2</td>\n",
              "      <td>6</td>\n",
              "      <td>19</td>\n",
              "      <td>0.124</td>\n",
              "      <td>1.073</td>\n",
              "      <td>0.0</td>\n",
              "      <td>6.3</td>\n",
              "    </tr>\n",
              "    <tr>\n",
              "      <th>1</th>\n",
              "      <td>1</td>\n",
              "      <td>2</td>\n",
              "      <td>47</td>\n",
              "      <td>1</td>\n",
              "      <td>26</td>\n",
              "      <td>100</td>\n",
              "      <td>4.582</td>\n",
              "      <td>8.218</td>\n",
              "      <td>0.0</td>\n",
              "      <td>12.8</td>\n",
              "    </tr>\n",
              "    <tr>\n",
              "      <th>2</th>\n",
              "      <td>2</td>\n",
              "      <td>3</td>\n",
              "      <td>33</td>\n",
              "      <td>2</td>\n",
              "      <td>10</td>\n",
              "      <td>57</td>\n",
              "      <td>6.111</td>\n",
              "      <td>5.802</td>\n",
              "      <td>1.0</td>\n",
              "      <td>20.9</td>\n",
              "    </tr>\n",
              "    <tr>\n",
              "      <th>3</th>\n",
              "      <td>3</td>\n",
              "      <td>4</td>\n",
              "      <td>29</td>\n",
              "      <td>2</td>\n",
              "      <td>4</td>\n",
              "      <td>19</td>\n",
              "      <td>0.681</td>\n",
              "      <td>0.516</td>\n",
              "      <td>0.0</td>\n",
              "      <td>6.3</td>\n",
              "    </tr>\n",
              "    <tr>\n",
              "      <th>4</th>\n",
              "      <td>4</td>\n",
              "      <td>5</td>\n",
              "      <td>47</td>\n",
              "      <td>1</td>\n",
              "      <td>31</td>\n",
              "      <td>253</td>\n",
              "      <td>9.308</td>\n",
              "      <td>8.908</td>\n",
              "      <td>0.0</td>\n",
              "      <td>7.2</td>\n",
              "    </tr>\n",
              "  </tbody>\n",
              "</table>\n",
              "</div>\n",
              "      <button class=\"colab-df-convert\" onclick=\"convertToInteractive('df-177fa181-fc3f-42cd-be2a-71e06c184633')\"\n",
              "              title=\"Convert this dataframe to an interactive table.\"\n",
              "              style=\"display:none;\">\n",
              "        \n",
              "  <svg xmlns=\"http://www.w3.org/2000/svg\" height=\"24px\"viewBox=\"0 0 24 24\"\n",
              "       width=\"24px\">\n",
              "    <path d=\"M0 0h24v24H0V0z\" fill=\"none\"/>\n",
              "    <path d=\"M18.56 5.44l.94 2.06.94-2.06 2.06-.94-2.06-.94-.94-2.06-.94 2.06-2.06.94zm-11 1L8.5 8.5l.94-2.06 2.06-.94-2.06-.94L8.5 2.5l-.94 2.06-2.06.94zm10 10l.94 2.06.94-2.06 2.06-.94-2.06-.94-.94-2.06-.94 2.06-2.06.94z\"/><path d=\"M17.41 7.96l-1.37-1.37c-.4-.4-.92-.59-1.43-.59-.52 0-1.04.2-1.43.59L10.3 9.45l-7.72 7.72c-.78.78-.78 2.05 0 2.83L4 21.41c.39.39.9.59 1.41.59.51 0 1.02-.2 1.41-.59l7.78-7.78 2.81-2.81c.8-.78.8-2.07 0-2.86zM5.41 20L4 18.59l7.72-7.72 1.47 1.35L5.41 20z\"/>\n",
              "  </svg>\n",
              "      </button>\n",
              "      \n",
              "  <style>\n",
              "    .colab-df-container {\n",
              "      display:flex;\n",
              "      flex-wrap:wrap;\n",
              "      gap: 12px;\n",
              "    }\n",
              "\n",
              "    .colab-df-convert {\n",
              "      background-color: #E8F0FE;\n",
              "      border: none;\n",
              "      border-radius: 50%;\n",
              "      cursor: pointer;\n",
              "      display: none;\n",
              "      fill: #1967D2;\n",
              "      height: 32px;\n",
              "      padding: 0 0 0 0;\n",
              "      width: 32px;\n",
              "    }\n",
              "\n",
              "    .colab-df-convert:hover {\n",
              "      background-color: #E2EBFA;\n",
              "      box-shadow: 0px 1px 2px rgba(60, 64, 67, 0.3), 0px 1px 3px 1px rgba(60, 64, 67, 0.15);\n",
              "      fill: #174EA6;\n",
              "    }\n",
              "\n",
              "    [theme=dark] .colab-df-convert {\n",
              "      background-color: #3B4455;\n",
              "      fill: #D2E3FC;\n",
              "    }\n",
              "\n",
              "    [theme=dark] .colab-df-convert:hover {\n",
              "      background-color: #434B5C;\n",
              "      box-shadow: 0px 1px 3px 1px rgba(0, 0, 0, 0.15);\n",
              "      filter: drop-shadow(0px 1px 2px rgba(0, 0, 0, 0.3));\n",
              "      fill: #FFFFFF;\n",
              "    }\n",
              "  </style>\n",
              "\n",
              "      <script>\n",
              "        const buttonEl =\n",
              "          document.querySelector('#df-177fa181-fc3f-42cd-be2a-71e06c184633 button.colab-df-convert');\n",
              "        buttonEl.style.display =\n",
              "          google.colab.kernel.accessAllowed ? 'block' : 'none';\n",
              "\n",
              "        async function convertToInteractive(key) {\n",
              "          const element = document.querySelector('#df-177fa181-fc3f-42cd-be2a-71e06c184633');\n",
              "          const dataTable =\n",
              "            await google.colab.kernel.invokeFunction('convertToInteractive',\n",
              "                                                     [key], {});\n",
              "          if (!dataTable) return;\n",
              "\n",
              "          const docLinkHtml = 'Like what you see? Visit the ' +\n",
              "            '<a target=\"_blank\" href=https://colab.research.google.com/notebooks/data_table.ipynb>data table notebook</a>'\n",
              "            + ' to learn more about interactive tables.';\n",
              "          element.innerHTML = '';\n",
              "          dataTable['output_type'] = 'display_data';\n",
              "          await google.colab.output.renderOutput(dataTable, element);\n",
              "          const docLink = document.createElement('div');\n",
              "          docLink.innerHTML = docLinkHtml;\n",
              "          element.appendChild(docLink);\n",
              "        }\n",
              "      </script>\n",
              "    </div>\n",
              "  </div>\n",
              "  "
            ]
          },
          "metadata": {},
          "execution_count": 2
        }
      ]
    },
    {
      "cell_type": "markdown",
      "source": [
        "#Data Cleaning"
      ],
      "metadata": {
        "id": "qE_7UQyqGjH_"
      }
    },
    {
      "cell_type": "code",
      "source": [
        "#checking for data info\n",
        "df.info()"
      ],
      "metadata": {
        "colab": {
          "base_uri": "https://localhost:8080/"
        },
        "id": "RwBVt_wBGmq3",
        "outputId": "f4df1ab9-004f-4513-e601-41e3b4e8844d"
      },
      "execution_count": 3,
      "outputs": [
        {
          "output_type": "stream",
          "name": "stdout",
          "text": [
            "<class 'pandas.core.frame.DataFrame'>\n",
            "RangeIndex: 850 entries, 0 to 849\n",
            "Data columns (total 10 columns):\n",
            " #   Column           Non-Null Count  Dtype  \n",
            "---  ------           --------------  -----  \n",
            " 0   Unnamed: 0       850 non-null    int64  \n",
            " 1   Customer Id      850 non-null    int64  \n",
            " 2   Age              850 non-null    int64  \n",
            " 3   Edu              850 non-null    int64  \n",
            " 4   Years Employed   850 non-null    int64  \n",
            " 5   Income           850 non-null    int64  \n",
            " 6   Card Debt        850 non-null    float64\n",
            " 7   Other Debt       850 non-null    float64\n",
            " 8   Defaulted        700 non-null    float64\n",
            " 9   DebtIncomeRatio  850 non-null    float64\n",
            "dtypes: float64(4), int64(6)\n",
            "memory usage: 66.5 KB\n"
          ]
        }
      ]
    },
    {
      "cell_type": "code",
      "source": [
        "# how many data points are duplicated?\n",
        "df.duplicated().sum()"
      ],
      "metadata": {
        "colab": {
          "base_uri": "https://localhost:8080/"
        },
        "id": "tB49LYDXGxxf",
        "outputId": "b1478264-503d-4105-927b-54688140f5da"
      },
      "execution_count": 4,
      "outputs": [
        {
          "output_type": "execute_result",
          "data": {
            "text/plain": [
              "0"
            ]
          },
          "metadata": {},
          "execution_count": 4
        }
      ]
    },
    {
      "cell_type": "code",
      "source": [
        "#deleting the unamed column, it is just a replicate of the index and Customer Id\n",
        "df.drop(columns=['Unnamed: 0', 'Customer Id'],inplace=True)"
      ],
      "metadata": {
        "id": "ILSxTOMCIt8H"
      },
      "execution_count": 5,
      "outputs": []
    },
    {
      "cell_type": "code",
      "source": [
        "#check for missing values\n",
        "df.isna().sum()"
      ],
      "metadata": {
        "colab": {
          "base_uri": "https://localhost:8080/"
        },
        "id": "aNxYpx9jG1BQ",
        "outputId": "fb53f47a-92af-4c22-9a13-624ce9668bb5"
      },
      "execution_count": 6,
      "outputs": [
        {
          "output_type": "execute_result",
          "data": {
            "text/plain": [
              "Age                  0\n",
              "Edu                  0\n",
              "Years Employed       0\n",
              "Income               0\n",
              "Card Debt            0\n",
              "Other Debt           0\n",
              "Defaulted          150\n",
              "DebtIncomeRatio      0\n",
              "dtype: int64"
            ]
          },
          "metadata": {},
          "execution_count": 6
        }
      ]
    },
    {
      "cell_type": "code",
      "source": [
        "#percentage of rows with missing data\n",
        "((df.isnull().any(axis=1).sum())/len(df)*100).round(2)"
      ],
      "metadata": {
        "colab": {
          "base_uri": "https://localhost:8080/"
        },
        "id": "Fqy0oE-PG7vO",
        "outputId": "36b06746-51dc-4b10-b4ab-da3c431e7dfd"
      },
      "execution_count": 7,
      "outputs": [
        {
          "output_type": "execute_result",
          "data": {
            "text/plain": [
              "17.65"
            ]
          },
          "metadata": {},
          "execution_count": 7
        }
      ]
    },
    {
      "cell_type": "markdown",
      "source": [
        ">The cell above shows that there are indeed missing values. These missing values are less than 20% of our data set, so I'll decide to drop these row. Deleting the 'Defaulted' column may cause us to loose some valuable informations, while using a simple imputer to replace those values may bias our results. So I'll opt for deleting the rows with missing values."
      ],
      "metadata": {
        "id": "VG3jzp2WHMKv"
      }
    },
    {
      "cell_type": "code",
      "source": [
        "df.dropna(inplace=True)\n",
        "df.isna().sum()"
      ],
      "metadata": {
        "colab": {
          "base_uri": "https://localhost:8080/"
        },
        "id": "_Ld3AQVuIC5P",
        "outputId": "65873abf-1bfe-4687-84ce-20cd17dba75c"
      },
      "execution_count": 8,
      "outputs": [
        {
          "output_type": "execute_result",
          "data": {
            "text/plain": [
              "Age                0\n",
              "Edu                0\n",
              "Years Employed     0\n",
              "Income             0\n",
              "Card Debt          0\n",
              "Other Debt         0\n",
              "Defaulted          0\n",
              "DebtIncomeRatio    0\n",
              "dtype: int64"
            ]
          },
          "metadata": {},
          "execution_count": 8
        }
      ]
    },
    {
      "cell_type": "code",
      "source": [
        "#A quick overview of how each feature relate to one another\n",
        "corr = df.corr()\n",
        "fig, ax = plt.subplots(figsize=(10,5)) \n",
        "sns.heatmap(corr, cmap = 'Greens', annot =True);"
      ],
      "metadata": {
        "colab": {
          "base_uri": "https://localhost:8080/",
          "height": 400
        },
        "id": "JQuglHaHIRef",
        "outputId": "1350bb41-eaa1-484d-fbd9-95315c424abb"
      },
      "execution_count": 9,
      "outputs": [
        {
          "output_type": "display_data",
          "data": {
            "text/plain": [
              "<Figure size 720x360 with 2 Axes>"
            ],
            "image/png": "[encoded data removed]"
          },
          "metadata": {
            "needs_background": "light"
          }
        }
      ]
    },
    {
      "cell_type": "markdown",
      "source": [
        "#1)Use KMeans to create various customer segments"
      ],
      "metadata": {
        "id": "VtK0HZGpGAS5"
      }
    },
    {
      "cell_type": "markdown",
      "source": [
        "##1.Use an Elbow Plot of inertia"
      ],
      "metadata": {
        "id": "k009VIC9GE53"
      }
    },
    {
      "cell_type": "code",
      "source": [
        "# Instantiate Standard Scaler\n",
        "scaler = StandardScaler()\n",
        "# Fit & transform data.\n",
        "scaled_df = scaler.fit_transform(df)\n",
        "#Create an empty list of inertias\n",
        "inertias = []\n",
        "#Loop through k values between 2 and 10 and store the inertias in the list.\n",
        "for k in range(2,11):\n",
        "    kmeans = KMeans(n_clusters=k)  \n",
        "    kmeans.fit(scaled_df)  \n",
        "    inertias.append(kmeans.inertia_)\n",
        "#Visualize scores\n",
        "plt.plot(range(2,11), inertias, marker = '.')\n",
        "plt.xlabel('clusters')\n",
        "plt.ylabel('inertia');"
      ],
      "metadata": {
        "colab": {
          "base_uri": "https://localhost:8080/",
          "height": 279
        },
        "id": "rKst7EMeGD93",
        "outputId": "ad3f1d88-db3a-4c33-b0ae-83d47f16d9ae"
      },
      "execution_count": 10,
      "outputs": [
        {
          "output_type": "display_data",
          "data": {
            "text/plain": [
              "<Figure size 432x288 with 1 Axes>"
            ],
            "image/png": "[encoded data removed]"
          },
          "metadata": {
            "needs_background": "light"
          }
        }
      ]
    },
    {
      "cell_type": "markdown",
      "source": [
        ">The Elbow happens at 3 , which means 3 is a good number of clusters"
      ],
      "metadata": {
        "id": "CcdD8CzOW8wO"
      }
    },
    {
      "cell_type": "markdown",
      "source": [
        "##2.A plot of Silhouette Scores"
      ],
      "metadata": {
        "id": "m6wBFBCcGMId"
      }
    },
    {
      "cell_type": "code",
      "source": [
        "# Visualize different silhouette scores\n",
        "# Save silhouette scores for various cluster numbers in list\n",
        "silhouette_scores = []\n",
        "for i in range(2, 11):\n",
        "  kmeans = KMeans(n_clusters = i)\n",
        "  kmeans.fit(scaled_df)\n",
        "  silhouette_scores.append(silhouette_score(scaled_df, kmeans.labels_))\n",
        "# Visualize scores\n",
        "plt.plot(range(2, 11), silhouette_scores, marker = '.')\n",
        "plt.xlabel('Number of Clusters')\n",
        "plt.ylabel('Silhouette Score');"
      ],
      "metadata": {
        "colab": {
          "base_uri": "https://localhost:8080/",
          "height": 281
        },
        "id": "KI-BffpuGPt3",
        "outputId": "222be49a-431f-47de-bf46-01b9eb1e9a3a"
      },
      "execution_count": 11,
      "outputs": [
        {
          "output_type": "display_data",
          "data": {
            "text/plain": [
              "<Figure size 432x288 with 1 Axes>"
            ],
            "image/png": "[encoded data removed]"
          },
          "metadata": {
            "needs_background": "light"
          }
        }
      ]
    },
    {
      "cell_type": "markdown",
      "source": [
        ">The Silhouette score implies that the best number of clusters is 2"
      ],
      "metadata": {
        "id": "yL2EXUvat4X4"
      }
    },
    {
      "cell_type": "markdown",
      "source": [
        "##3.Choose a K based on the results"
      ],
      "metadata": {
        "id": "lLjGknsfGSD4"
      }
    },
    {
      "cell_type": "markdown",
      "source": [
        "> I will go for a K value of 3. Based on the type of Data being analyzed it seems as though 3 groups being targetted makes more sense: those likely to be financialy stable, those that are not and those that find themselves in the middle."
      ],
      "metadata": {
        "id": "UcrsdCl9ug-i"
      }
    },
    {
      "cell_type": "code",
      "source": [
        "# Refit KMeans with 3 clusters\n",
        "kmeans = KMeans(n_clusters=3, random_state=42)\n",
        "kmeans.fit(scaled_df)\n",
        "# Add the clusters as a column in the dataframe\n",
        "df['cluster'] = kmeans.labels_\n",
        "df.head()"
      ],
      "metadata": {
        "id": "bCUMc_cyvMkv",
        "colab": {
          "base_uri": "https://localhost:8080/",
          "height": 206
        },
        "outputId": "a9661e2e-2160-4e23-bc2e-d639b97f9331"
      },
      "execution_count": 17,
      "outputs": [
        {
          "output_type": "execute_result",
          "data": {
            "text/plain": [
              "   Age  Edu  Years Employed  Income  Card Debt  Other Debt  Defaulted  \\\n",
              "0   41    2               6      19      0.124       1.073        0.0   \n",
              "1   47    1              26     100      4.582       8.218        0.0   \n",
              "2   33    2              10      57      6.111       5.802        1.0   \n",
              "3   29    2               4      19      0.681       0.516        0.0   \n",
              "4   47    1              31     253      9.308       8.908        0.0   \n",
              "\n",
              "   DebtIncomeRatio  cluster  \n",
              "0              6.3        1  \n",
              "1             12.8        0  \n",
              "2             20.9        2  \n",
              "3              6.3        1  \n",
              "4              7.2        0  "
            ],
            "text/html": [
              "\n",
              "  <div id=\"df-f886835c-45f6-463c-bb78-46eab5bac927\">\n",
              "    <div class=\"colab-df-container\">\n",
              "      <div>\n",
              "<style scoped>\n",
              "    .dataframe tbody tr th:only-of-type {\n",
              "        vertical-align: middle;\n",
              "    }\n",
              "\n",
              "    .dataframe tbody tr th {\n",
              "        vertical-align: top;\n",
              "    }\n",
              "\n",
              "    .dataframe thead th {\n",
              "        text-align: right;\n",
              "    }\n",
              "</style>\n",
              "<table border=\"1\" class=\"dataframe\">\n",
              "  <thead>\n",
              "    <tr style=\"text-align: right;\">\n",
              "      <th></th>\n",
              "      <th>Age</th>\n",
              "      <th>Edu</th>\n",
              "      <th>Years Employed</th>\n",
              "      <th>Income</th>\n",
              "      <th>Card Debt</th>\n",
              "      <th>Other Debt</th>\n",
              "      <th>Defaulted</th>\n",
              "      <th>DebtIncomeRatio</th>\n",
              "      <th>cluster</th>\n",
              "    </tr>\n",
              "  </thead>\n",
              "  <tbody>\n",
              "    <tr>\n",
              "      <th>0</th>\n",
              "      <td>41</td>\n",
              "      <td>2</td>\n",
              "      <td>6</td>\n",
              "      <td>19</td>\n",
              "      <td>0.124</td>\n",
              "      <td>1.073</td>\n",
              "      <td>0.0</td>\n",
              "      <td>6.3</td>\n",
              "      <td>1</td>\n",
              "    </tr>\n",
              "    <tr>\n",
              "      <th>1</th>\n",
              "      <td>47</td>\n",
              "      <td>1</td>\n",
              "      <td>26</td>\n",
              "      <td>100</td>\n",
              "      <td>4.582</td>\n",
              "      <td>8.218</td>\n",
              "      <td>0.0</td>\n",
              "      <td>12.8</td>\n",
              "      <td>0</td>\n",
              "    </tr>\n",
              "    <tr>\n",
              "      <th>2</th>\n",
              "      <td>33</td>\n",
              "      <td>2</td>\n",
              "      <td>10</td>\n",
              "      <td>57</td>\n",
              "      <td>6.111</td>\n",
              "      <td>5.802</td>\n",
              "      <td>1.0</td>\n",
              "      <td>20.9</td>\n",
              "      <td>2</td>\n",
              "    </tr>\n",
              "    <tr>\n",
              "      <th>3</th>\n",
              "      <td>29</td>\n",
              "      <td>2</td>\n",
              "      <td>4</td>\n",
              "      <td>19</td>\n",
              "      <td>0.681</td>\n",
              "      <td>0.516</td>\n",
              "      <td>0.0</td>\n",
              "      <td>6.3</td>\n",
              "      <td>1</td>\n",
              "    </tr>\n",
              "    <tr>\n",
              "      <th>4</th>\n",
              "      <td>47</td>\n",
              "      <td>1</td>\n",
              "      <td>31</td>\n",
              "      <td>253</td>\n",
              "      <td>9.308</td>\n",
              "      <td>8.908</td>\n",
              "      <td>0.0</td>\n",
              "      <td>7.2</td>\n",
              "      <td>0</td>\n",
              "    </tr>\n",
              "  </tbody>\n",
              "</table>\n",
              "</div>\n",
              "      <button class=\"colab-df-convert\" onclick=\"convertToInteractive('df-f886835c-45f6-463c-bb78-46eab5bac927')\"\n",
              "              title=\"Convert this dataframe to an interactive table.\"\n",
              "              style=\"display:none;\">\n",
              "        \n",
              "  <svg xmlns=\"http://www.w3.org/2000/svg\" height=\"24px\"viewBox=\"0 0 24 24\"\n",
              "       width=\"24px\">\n",
              "    <path d=\"M0 0h24v24H0V0z\" fill=\"none\"/>\n",
              "    <path d=\"M18.56 5.44l.94 2.06.94-2.06 2.06-.94-2.06-.94-.94-2.06-.94 2.06-2.06.94zm-11 1L8.5 8.5l.94-2.06 2.06-.94-2.06-.94L8.5 2.5l-.94 2.06-2.06.94zm10 10l.94 2.06.94-2.06 2.06-.94-2.06-.94-.94-2.06-.94 2.06-2.06.94z\"/><path d=\"M17.41 7.96l-1.37-1.37c-.4-.4-.92-.59-1.43-.59-.52 0-1.04.2-1.43.59L10.3 9.45l-7.72 7.72c-.78.78-.78 2.05 0 2.83L4 21.41c.39.39.9.59 1.41.59.51 0 1.02-.2 1.41-.59l7.78-7.78 2.81-2.81c.8-.78.8-2.07 0-2.86zM5.41 20L4 18.59l7.72-7.72 1.47 1.35L5.41 20z\"/>\n",
              "  </svg>\n",
              "      </button>\n",
              "      \n",
              "  <style>\n",
              "    .colab-df-container {\n",
              "      display:flex;\n",
              "      flex-wrap:wrap;\n",
              "      gap: 12px;\n",
              "    }\n",
              "\n",
              "    .colab-df-convert {\n",
              "      background-color: #E8F0FE;\n",
              "      border: none;\n",
              "      border-radius: 50%;\n",
              "      cursor: pointer;\n",
              "      display: none;\n",
              "      fill: #1967D2;\n",
              "      height: 32px;\n",
              "      padding: 0 0 0 0;\n",
              "      width: 32px;\n",
              "    }\n",
              "\n",
              "    .colab-df-convert:hover {\n",
              "      background-color: #E2EBFA;\n",
              "      box-shadow: 0px 1px 2px rgba(60, 64, 67, 0.3), 0px 1px 3px 1px rgba(60, 64, 67, 0.15);\n",
              "      fill: #174EA6;\n",
              "    }\n",
              "\n",
              "    [theme=dark] .colab-df-convert {\n",
              "      background-color: #3B4455;\n",
              "      fill: #D2E3FC;\n",
              "    }\n",
              "\n",
              "    [theme=dark] .colab-df-convert:hover {\n",
              "      background-color: #434B5C;\n",
              "      box-shadow: 0px 1px 3px 1px rgba(0, 0, 0, 0.15);\n",
              "      filter: drop-shadow(0px 1px 2px rgba(0, 0, 0, 0.3));\n",
              "      fill: #FFFFFF;\n",
              "    }\n",
              "  </style>\n",
              "\n",
              "      <script>\n",
              "        const buttonEl =\n",
              "          document.querySelector('#df-f886835c-45f6-463c-bb78-46eab5bac927 button.colab-df-convert');\n",
              "        buttonEl.style.display =\n",
              "          google.colab.kernel.accessAllowed ? 'block' : 'none';\n",
              "\n",
              "        async function convertToInteractive(key) {\n",
              "          const element = document.querySelector('#df-f886835c-45f6-463c-bb78-46eab5bac927');\n",
              "          const dataTable =\n",
              "            await google.colab.kernel.invokeFunction('convertToInteractive',\n",
              "                                                     [key], {});\n",
              "          if (!dataTable) return;\n",
              "\n",
              "          const docLinkHtml = 'Like what you see? Visit the ' +\n",
              "            '<a target=\"_blank\" href=https://colab.research.google.com/notebooks/data_table.ipynb>data table notebook</a>'\n",
              "            + ' to learn more about interactive tables.';\n",
              "          element.innerHTML = '';\n",
              "          dataTable['output_type'] = 'display_data';\n",
              "          await google.colab.output.renderOutput(dataTable, element);\n",
              "          const docLink = document.createElement('div');\n",
              "          docLink.innerHTML = docLinkHtml;\n",
              "          element.appendChild(docLink);\n",
              "        }\n",
              "      </script>\n",
              "    </div>\n",
              "  </div>\n",
              "  "
            ]
          },
          "metadata": {},
          "execution_count": 17
        }
      ]
    },
    {
      "cell_type": "code",
      "source": [
        "# Group the dataframe by cluster and aggregate by mean values\n",
        "# Add as_index=False so that the clusters are a column, not the index\n",
        "cluster_groups = df.groupby('cluster', as_index=False).mean()\n",
        "cluster_groups"
      ],
      "metadata": {
        "colab": {
          "base_uri": "https://localhost:8080/",
          "height": 143
        },
        "id": "EiTs5PC01G7S",
        "outputId": "3163acd8-fefb-4420-a331-c55d5610a322"
      },
      "execution_count": 18,
      "outputs": [
        {
          "output_type": "execute_result",
          "data": {
            "text/plain": [
              "   cluster        Age       Edu  Years Employed     Income  Card Debt  \\\n",
              "0        0  43.112000  1.960000       16.904000  96.056000   4.172896   \n",
              "1        1  33.727053  1.601449        7.644928  36.246377   0.788126   \n",
              "2        2  31.366460  1.850932        3.689441  30.484472   1.488199   \n",
              "\n",
              "   Other Debt  Defaulted  DebtIncomeRatio  \n",
              "0    7.811616   0.208000        14.398400  \n",
              "1    1.748710   0.000000         7.581884  \n",
              "2    2.734901   0.975155        13.936025  "
            ],
            "text/html": [
              "\n",
              "  <div id=\"df-8b40746c-558d-4aae-b923-d4a918203c0f\">\n",
              "    <div class=\"colab-df-container\">\n",
              "      <div>\n",
              "<style scoped>\n",
              "    .dataframe tbody tr th:only-of-type {\n",
              "        vertical-align: middle;\n",
              "    }\n",
              "\n",
              "    .dataframe tbody tr th {\n",
              "        vertical-align: top;\n",
              "    }\n",
              "\n",
              "    .dataframe thead th {\n",
              "        text-align: right;\n",
              "    }\n",
              "</style>\n",
              "<table border=\"1\" class=\"dataframe\">\n",
              "  <thead>\n",
              "    <tr style=\"text-align: right;\">\n",
              "      <th></th>\n",
              "      <th>cluster</th>\n",
              "      <th>Age</th>\n",
              "      <th>Edu</th>\n",
              "      <th>Years Employed</th>\n",
              "      <th>Income</th>\n",
              "      <th>Card Debt</th>\n",
              "      <th>Other Debt</th>\n",
              "      <th>Defaulted</th>\n",
              "      <th>DebtIncomeRatio</th>\n",
              "    </tr>\n",
              "  </thead>\n",
              "  <tbody>\n",
              "    <tr>\n",
              "      <th>0</th>\n",
              "      <td>0</td>\n",
              "      <td>43.112000</td>\n",
              "      <td>1.960000</td>\n",
              "      <td>16.904000</td>\n",
              "      <td>96.056000</td>\n",
              "      <td>4.172896</td>\n",
              "      <td>7.811616</td>\n",
              "      <td>0.208000</td>\n",
              "      <td>14.398400</td>\n",
              "    </tr>\n",
              "    <tr>\n",
              "      <th>1</th>\n",
              "      <td>1</td>\n",
              "      <td>33.727053</td>\n",
              "      <td>1.601449</td>\n",
              "      <td>7.644928</td>\n",
              "      <td>36.246377</td>\n",
              "      <td>0.788126</td>\n",
              "      <td>1.748710</td>\n",
              "      <td>0.000000</td>\n",
              "      <td>7.581884</td>\n",
              "    </tr>\n",
              "    <tr>\n",
              "      <th>2</th>\n",
              "      <td>2</td>\n",
              "      <td>31.366460</td>\n",
              "      <td>1.850932</td>\n",
              "      <td>3.689441</td>\n",
              "      <td>30.484472</td>\n",
              "      <td>1.488199</td>\n",
              "      <td>2.734901</td>\n",
              "      <td>0.975155</td>\n",
              "      <td>13.936025</td>\n",
              "    </tr>\n",
              "  </tbody>\n",
              "</table>\n",
              "</div>\n",
              "      <button class=\"colab-df-convert\" onclick=\"convertToInteractive('df-8b40746c-558d-4aae-b923-d4a918203c0f')\"\n",
              "              title=\"Convert this dataframe to an interactive table.\"\n",
              "              style=\"display:none;\">\n",
              "        \n",
              "  <svg xmlns=\"http://www.w3.org/2000/svg\" height=\"24px\"viewBox=\"0 0 24 24\"\n",
              "       width=\"24px\">\n",
              "    <path d=\"M0 0h24v24H0V0z\" fill=\"none\"/>\n",
              "    <path d=\"M18.56 5.44l.94 2.06.94-2.06 2.06-.94-2.06-.94-.94-2.06-.94 2.06-2.06.94zm-11 1L8.5 8.5l.94-2.06 2.06-.94-2.06-.94L8.5 2.5l-.94 2.06-2.06.94zm10 10l.94 2.06.94-2.06 2.06-.94-2.06-.94-.94-2.06-.94 2.06-2.06.94z\"/><path d=\"M17.41 7.96l-1.37-1.37c-.4-.4-.92-.59-1.43-.59-.52 0-1.04.2-1.43.59L10.3 9.45l-7.72 7.72c-.78.78-.78 2.05 0 2.83L4 21.41c.39.39.9.59 1.41.59.51 0 1.02-.2 1.41-.59l7.78-7.78 2.81-2.81c.8-.78.8-2.07 0-2.86zM5.41 20L4 18.59l7.72-7.72 1.47 1.35L5.41 20z\"/>\n",
              "  </svg>\n",
              "      </button>\n",
              "      \n",
              "  <style>\n",
              "    .colab-df-container {\n",
              "      display:flex;\n",
              "      flex-wrap:wrap;\n",
              "      gap: 12px;\n",
              "    }\n",
              "\n",
              "    .colab-df-convert {\n",
              "      background-color: #E8F0FE;\n",
              "      border: none;\n",
              "      border-radius: 50%;\n",
              "      cursor: pointer;\n",
              "      display: none;\n",
              "      fill: #1967D2;\n",
              "      height: 32px;\n",
              "      padding: 0 0 0 0;\n",
              "      width: 32px;\n",
              "    }\n",
              "\n",
              "    .colab-df-convert:hover {\n",
              "      background-color: #E2EBFA;\n",
              "      box-shadow: 0px 1px 2px rgba(60, 64, 67, 0.3), 0px 1px 3px 1px rgba(60, 64, 67, 0.15);\n",
              "      fill: #174EA6;\n",
              "    }\n",
              "\n",
              "    [theme=dark] .colab-df-convert {\n",
              "      background-color: #3B4455;\n",
              "      fill: #D2E3FC;\n",
              "    }\n",
              "\n",
              "    [theme=dark] .colab-df-convert:hover {\n",
              "      background-color: #434B5C;\n",
              "      box-shadow: 0px 1px 3px 1px rgba(0, 0, 0, 0.15);\n",
              "      filter: drop-shadow(0px 1px 2px rgba(0, 0, 0, 0.3));\n",
              "      fill: #FFFFFF;\n",
              "    }\n",
              "  </style>\n",
              "\n",
              "      <script>\n",
              "        const buttonEl =\n",
              "          document.querySelector('#df-8b40746c-558d-4aae-b923-d4a918203c0f button.colab-df-convert');\n",
              "        buttonEl.style.display =\n",
              "          google.colab.kernel.accessAllowed ? 'block' : 'none';\n",
              "\n",
              "        async function convertToInteractive(key) {\n",
              "          const element = document.querySelector('#df-8b40746c-558d-4aae-b923-d4a918203c0f');\n",
              "          const dataTable =\n",
              "            await google.colab.kernel.invokeFunction('convertToInteractive',\n",
              "                                                     [key], {});\n",
              "          if (!dataTable) return;\n",
              "\n",
              "          const docLinkHtml = 'Like what you see? Visit the ' +\n",
              "            '<a target=\"_blank\" href=https://colab.research.google.com/notebooks/data_table.ipynb>data table notebook</a>'\n",
              "            + ' to learn more about interactive tables.';\n",
              "          element.innerHTML = '';\n",
              "          dataTable['output_type'] = 'display_data';\n",
              "          await google.colab.output.renderOutput(dataTable, element);\n",
              "          const docLink = document.createElement('div');\n",
              "          docLink.innerHTML = docLinkHtml;\n",
              "          element.appendChild(docLink);\n",
              "        }\n",
              "      </script>\n",
              "    </div>\n",
              "  </div>\n",
              "  "
            ]
          },
          "metadata": {},
          "execution_count": 18
        }
      ]
    },
    {
      "cell_type": "markdown",
      "source": [
        "#4.Visualizing and Analyzing the Clusters"
      ],
      "metadata": {
        "id": "5D6SsJRp1h4B"
      }
    },
    {
      "cell_type": "code",
      "source": [
        "# Visualize means \n",
        "fig, axes = plt.subplots(2,4, figsize = (20, 10))\n",
        "# fig is an array of dimensions 2,4.  axes.ravel() will flatten it to 8,1\n",
        "axes = axes.ravel()\n",
        "# Loop over columns and plot each in a separate figure, skip 'cluster' column\n",
        "for i, col in enumerate(cluster_groups.columns[1:]):\n",
        "  axes[i].bar(cluster_groups['cluster'], cluster_groups[col])\n",
        "  axes[i].set_title(f'Mean {col}')"
      ],
      "metadata": {
        "colab": {
          "base_uri": "https://localhost:8080/",
          "height": 607
        },
        "id": "9D5AnhUF1rFt",
        "outputId": "507599d5-71e3-4eca-fa2e-99dcc62715f0"
      },
      "execution_count": 19,
      "outputs": [
        {
          "output_type": "display_data",
          "data": {
            "text/plain": [
              "<Figure size 1440x720 with 8 Axes>"
            ],
            "image/png": "[encoded data removed]"
          },
          "metadata": {
            "needs_background": "light"
          }
        }
      ]
    },
    {
      "cell_type": "markdown",
      "source": [
        ">Cluster 0: These custommers are a bit older (Average age of ~ 43), they are a lot more educated, have been employed the longest (17 years on average) and it therefore makes sense that they have a much higher Mean income. As we all know income tends to increase over time. Their both mean card debts and other debts are much higher, which seems not too alarming since they considerably have a much higher income and when comparing the Mean Debt income ratio their numbers are similar to those in cluster 2. And only 20% of them have defaulted. \n",
        "\n",
        "\n",
        ">Cluster 1:These custommers are slightly younger (Average age of ~ 33), they are the least educated, but not drastically lower. They have been employed the 2nd longest (8 years on average) and it is reflected in their Mean income. This is most financially savy group as they possess the lowest mean card debts, other debts and Mean Debt income ratio. To top it off none of them have defaulted. \n",
        "\n",
        ">Cluster 2:These custommers are the youngest (Average age of ~ 31), they are  educated, have been employed the least longer (4 years on average) and hence them having the lowest Mean income. Their both mean card debts and other debts are not so high at first sight, however their Mean Debt income ratio are similar to those of cluster 0. And what seems alarming is that 98% of them have defaulted. "
      ],
      "metadata": {
        "id": "iCWXNw3n5kGQ"
      }
    },
    {
      "cell_type": "markdown",
      "source": [
        "##Recommendations"
      ],
      "metadata": {
        "id": "f7y2jgPH5Oth"
      }
    },
    {
      "cell_type": "markdown",
      "source": [
        ">Cluster 0: Althgough these customers are high earners, they tend to spend a lot. They borrowing risk is not negligeable since 20% default. I'll recommend providing a credit limit relative to their income, with a high interest rate. \n",
        "\n",
        "\n",
        ">Cluster 1: This is most financially savy group, as none of them have defaulted. I'll recommend providing a credit limit relative to their income, with a low interest rate.\n",
        "\n",
        ">Cluster 2:These custommers are not reliable.I'll recommend providing a  lower credit limit relative to their income, with a high interest rate."
      ],
      "metadata": {
        "id": "MDH6mLHKn0Q-"
      }
    }
  ]
}